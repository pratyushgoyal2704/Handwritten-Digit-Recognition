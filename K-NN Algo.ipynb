{
 "cells": [
  {
   "cell_type": "code",
   "execution_count": 12,
   "metadata": {},
   "outputs": [
    {
     "name": "stdout",
     "output_type": "stream",
     "text": [
      "(200, 2)\n",
      "(200, 2)\n"
     ]
    }
   ],
   "source": [
    "import numpy as np\n",
    "from matplotlib import pyplot as plt\n",
    "%matplotlib inline\n",
    "\n",
    "\n",
    "#Lemons are sour, sweetness will be low, they have some low value for color\n",
    "# Red values is higher, Yellow Lower\n",
    "# Sweetness is higher, Sourness Lower\n",
    "\n",
    "mean_01 = np.array([3.0,4.0])\n",
    "\n",
    "#2 X 2 matrix\n",
    "cov_01 = np.array([[1.0,-0.5],[-0.5,1.0]])\n",
    "\n",
    "mean_02 = np.array([0.0,0.0])\n",
    "\n",
    "cov_02 = np.array([[1.0,.5],[0.5,0.6]])\n",
    "\n",
    "dist_01 = np.random.multivariate_normal(mean_01,cov_01,200) #200 is the no of points\n",
    "dist_02 = np.random.multivariate_normal(mean_02,cov_02,200)\n",
    "\n",
    "print (dist_01.shape)\n",
    "print (dist_02.shape)\n",
    "# print (dist_01)"
   ]
  },
  {
   "cell_type": "code",
   "execution_count": 6,
   "metadata": {},
   "outputs": [
    {
     "data": {
      "image/png": "[encoded data removed]",
      "text/plain": [
       "<Figure size 432x288 with 1 Axes>"
      ]
     },
     "metadata": {
      "needs_background": "light"
     },
     "output_type": "display_data"
    }
   ],
   "source": [
    "# Making a plot of these points\n",
    "plt.figure(0)\n",
    "\n",
    "for x in range(dist_01.shape[0]): # x will go from 0 till 199\n",
    "    plt.scatter(dist_01[x,0],dist_01[x,1],color='red') # for all rows, value of x is 0th col,val of y is 1st col\n",
    "    plt.scatter(dist_02[x,0],dist_02[x,1],color='yellow')\n",
    "   \n",
    "plt.show()"
   ]
  },
  {
   "cell_type": "code",
   "execution_count": 15,
   "metadata": {},
   "outputs": [],
   "source": [
    "# Training Data Preparation\n",
    "\n",
    "# 400 samples - 200 lemons, 200 apples\n",
    "\n",
    "labels = np.zeros((400,1))\n",
    "labels[200:] = 1.0\n",
    "\n",
    "X_data = np.zeros((400,2))\n",
    "X_data[:200, :] = dist_01 # row from startin to 200, and for all col \n",
    "X_data[200: , :] = dist_02\n"
   ]
  },
  {
   "cell_type": "code",
   "execution_count": 18,
   "metadata": {},
   "outputs": [
    {
     "name": "stdout",
     "output_type": "stream",
     "text": [
      "[0.]\n"
     ]
    }
   ],
   "source": [
    "#KNN ALGO, complexity is O(Q.N) Q is number of query points. KNN is accurate but slow\n",
    "\n",
    "def dist(x1,x2):\n",
    "    return np.sqrt(((x1-x2)**2).sum())\n",
    "\n",
    "def knn(X_train,query_point,y_train,k=5): #y_train is the label, k should not be too high or too low, it should also be odd\n",
    "    vals = []\n",
    "    \n",
    "    for ix in range(X_train.shape[0]):  # form 0 to 399\n",
    "        v = [ dist(query_point,X_train[ix,:]), y_train[ix]]\n",
    "        vals.append(v)\n",
    "    # vals is a list containing distances and their labels\n",
    "      \n",
    "    updated_vals = sorted(vals)\n",
    "    # Lets us pick up top K values\n",
    "    pred_arr = np.asarray(updated_vals[:k])\n",
    "    \n",
    "    pred_arr = np.unique(pred_arr[:,1],return_counts = True) #for every value in first col. 1st col contains label so we count their frequency\n",
    "    #Largest Occurence \n",
    "    index = pred_arr[1].argmax() #Index of largest freq checking in 1st col  \n",
    "    return pred_arr[0][index]\n",
    "\n",
    "q = np.array([0.0,4.0])\n",
    "\n",
    "predicted_label  = knn(X_data,q,labels)\n",
    "print (predicted_label)\n",
    "\n",
    "\n"
   ]
  },
  {
   "cell_type": "code",
   "execution_count": 24,
   "metadata": {},
   "outputs": [
    {
     "name": "stdout",
     "output_type": "stream",
     "text": [
      "(300, 2) (100, 2)\n",
      "(300, 1) (100, 1)\n"
     ]
    }
   ],
   "source": [
    "#splitting the data into training and testing\n",
    "split = int(X_data.shape[0] * 0.75) # shape tells size of matrix\n",
    "\n",
    "X_train = X_data[:split]\n",
    "X_test = X_data[split:]\n",
    "\n",
    "y_train = labels[:split]\n",
    "y_test = labels[split:]\n",
    "\n",
    "print (X_train.shape, X_test.shape)\n",
    "print (y_train.shape, y_test.shape)\n"
   ]
  },
  {
   "cell_type": "code",
   "execution_count": 25,
   "metadata": {},
   "outputs": [
    {
     "name": "stdout",
     "output_type": "stream",
     "text": [
      "(100, 1)\n"
     ]
    }
   ],
   "source": [
    "#create a placeholder for storing test predictions\n",
    "preds = []\n",
    "\n",
    "#run a loop over every testing example and store predictions\n",
    "\n",
    "for tx in range(X_test.shape[0]):\n",
    "    preds.append(knn(X_train,X_test[tx],y_train))\n",
    "preds = np.asarray(preds).reshape((250,1))\n",
    "print (preds.shape)"
   ]
  },
  {
   "cell_type": "code",
   "execution_count": 29,
   "metadata": {},
   "outputs": [
    {
     "data": {
      "text/plain": [
       "99"
      ]
     },
     "execution_count": 29,
     "metadata": {},
     "output_type": "execute_result"
    }
   ],
   "source": [
    "#(preds == y_test) # jaha jaha true hai, vaha true, else false \n",
    "(preds == y_test).sum()"
   ]
  },
  {
   "cell_type": "code",
   "execution_count": 32,
   "metadata": {},
   "outputs": [
    {
     "name": "stdout",
     "output_type": "stream",
     "text": [
      "99.0\n"
     ]
    }
   ],
   "source": [
    "# Accuracy\n",
    "print (((preds == y_test).sum() / float(preds.shape[0]))*100)"
   ]
  }
 ],
 "metadata": {
  "kernelspec": {
   "display_name": "Python 3",
   "language": "python",
   "name": "python3"
  },
  "language_info": {
   "codemirror_mode": {
    "name": "ipython",
    "version": 3
   },
   "file_extension": ".py",
   "mimetype": "text/x-python",
   "name": "python",
   "nbconvert_exporter": "python",
   "pygments_lexer": "ipython3",
   "version": "3.7.3"
  }
 },
 "nbformat": 4,
 "nbformat_minor": 2
}
